{
 "cells": [
  {
   "cell_type": "code",
   "execution_count": 1,
   "metadata": {},
   "outputs": [],
   "source": [
    "import numpy as np\n",
    "import  matplotlib.pyplot as plt\n",
    "from featureNormalize import *\n",
    "from computeCost import *\n",
    "from gradientDescent import *\n",
    "from normalEqn import *"
   ]
  },
  {
   "cell_type": "code",
   "execution_count": 4,
   "metadata": {
    "scrolled": true
   },
   "outputs": [
    {
     "name": "stdout",
     "output_type": "stream",
     "text": [
      "Loading Data\n",
      "Normalizing Features...\n",
      "Running gradient descent...\n",
      "Theta computed from gradient descent : \n",
      "[ 116957.09125942  153585.60714022 -102206.23807717]\n",
      "Predicted price of a 1650 sq-ft, 3 br house (using gradient descent) : 293354.304\n"
     ]
    },
    {
     "data": {
      "image/png": "[encoded data removed]",
      "text/plain": [
       "<Figure size 432x288 with 1 Axes>"
      ]
     },
     "metadata": {
      "needs_background": "light"
     },
     "output_type": "display_data"
    }
   ],
   "source": [
    "'''特征缩放'''\n",
    "print('Loading Data')\n",
    "data = np.loadtxt('ex1data2.txt', delimiter=',')\n",
    "X = data[:, 0:2]\n",
    "y = data[:, 2]\n",
    "m = y.size\n",
    "\n",
    "print('Normalizing Features...')\n",
    "\n",
    "X, mu, sigma = feature_normalize(X)\n",
    "X = np.c_[np.ones(m), X]\n",
    "\n",
    "# 梯度下降\n",
    "\n",
    "print('Running gradient descent...')\n",
    "\n",
    "alpha = 0.01 # 学习率\n",
    "num_iters = 1400 # 迭代次数\n",
    "\n",
    "theta = np.zeros(3)#初始化参数\n",
    "theta, J_history = gradient_descent(X, y, theta, alpha, num_iters) #梯度下降求解参数\n",
    " \n",
    "# 绘制代价函数值随迭代次数的变化曲线 \n",
    "plt.figure()\n",
    "plt.plot(np.arange(J_history.size), J_history)\n",
    "plt.xlabel('Number of iterations')\n",
    "plt.ylabel('Cost J')\n",
    " \n",
    "# 打印求解的最优的参数 \n",
    "print('Theta computed from gradient descent : \\n{}'.format(theta))\n",
    " \n",
    "# 预测面积是1650 卧室数是3 的房子的价格\n",
    " \n",
    "x1=np.array([1650,3])\n",
    " \n",
    "x1=(x1-mu)/sigma  #对预测样例进行特征缩放\n",
    "x1=np.r_[1,x1]  #前面增加一个1\n",
    "price = h(x1,theta)  #带入假设函数 求解预测值\n",
    " \n",
    " \n",
    "# ==========================================================\n",
    " \n",
    "print('Predicted price of a 1650 sq-ft, 3 br house (using gradient descent) : {:0.3f}'.format(price))"
   ]
  },
  {
   "cell_type": "code",
   "execution_count": 3,
   "metadata": {},
   "outputs": [
    {
     "name": "stdout",
     "output_type": "stream",
     "text": [
      "Solving with normal equations ...\n",
      "Theta computed from the normal equations : \n",
      "[89597.9095428    139.21067402 -8738.01911233]\n",
      "Predicted price of a 1650 sq-ft, 3 br house (using normal equations) : 293081.464\n"
     ]
    }
   ],
   "source": [
    "'''第3部分 正规方程法求解多元线性回归'''\n",
    "#正规方程法不用进行特征缩放\n",
    " \n",
    "print('Solving with normal equations ...')\n",
    " \n",
    " \n",
    " \n",
    "# Load data\n",
    "data = np.loadtxt('ex1data2.txt', delimiter=',', dtype=np.int64)\n",
    "X = data[:, 0:2]\n",
    "y = data[:, 2]\n",
    "m = y.size\n",
    " \n",
    "# 增加一列特征1\n",
    "X = np.c_[np.ones(m), X]\n",
    " \n",
    "theta = normal_eqn(X, y) #正规方程法\n",
    " \n",
    "# 打印求解的最优参数\n",
    "print('Theta computed from the normal equations : \\n{}'.format(theta))\n",
    " \n",
    "# 预测面积是1650 卧室数是3 的房子的价格\n",
    " \n",
    "x2=np.array([1,1650,3])\n",
    "price = h(x2,theta) #带入假设函数 求解预测值\n",
    " \n",
    " \n",
    "# ==========================================================\n",
    " \n",
    "print('Predicted price of a 1650 sq-ft, 3 br house (using normal equations) : {:0.3f}'.format(price))"
   ]
  }
 ],
 "metadata": {
  "kernelspec": {
   "display_name": "Python 3",
   "language": "python",
   "name": "python3"
  },
  "language_info": {
   "codemirror_mode": {
    "name": "ipython",
    "version": 3
   },
   "file_extension": ".py",
   "mimetype": "text/x-python",
   "name": "python",
   "nbconvert_exporter": "python",
   "pygments_lexer": "ipython3",
   "version": "3.7.1"
  }
 },
 "nbformat": 4,
 "nbformat_minor": 2
}
