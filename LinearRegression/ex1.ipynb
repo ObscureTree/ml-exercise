{
 "cells": [
  {
   "cell_type": "code",
   "execution_count": 2,
   "metadata": {},
   "outputs": [],
   "source": [
    "import numpy as np\n",
    "from plotData import *\n",
    "from computeCost import *\n",
    "from gradientDescent import *\n",
    "import matplotlib.pyplot as plt"
   ]
  },
  {
   "cell_type": "code",
   "execution_count": 26,
   "metadata": {},
   "outputs": [
    {
     "name": "stdout",
     "output_type": "stream",
     "text": [
      "Poltting Data...\n",
      "Running Gradient Descent...\n",
      "Initial cost : 32.07273387745567(This value should be about 32.07)\n",
      "Theta found by gradient descent: [-3.63029144  1.16636235]\n",
      "For population = 35,000, we predict a profit of 4519.768 (This value should be about 4519.77)\n",
      "For population = 70,000, we predict a profit of 45342.450 (This value should be about 45342.45)\n"
     ]
    },
    {
     "data": {
      "image/png": "[encoded data removed]",
      "text/plain": [
       "<Figure size 432x288 with 1 Axes>"
      ]
     },
     "metadata": {
      "needs_background": "light"
     },
     "output_type": "display_data"
    }
   ],
   "source": [
    "'''可视化训练集'''\n",
    "print('Poltting Data...')\n",
    "data = np.loadtxt('ex1data1.txt', delimiter=',')\n",
    "X = data[:, 0]\n",
    "y = data[:, 1]\n",
    "m = y.size\n",
    "\n",
    "plt.ion()\n",
    "plt.figure(0)\n",
    "plot_data(X, y)\n",
    "\n",
    "\n",
    "'''梯度下降'''\n",
    "print('Running Gradient Descent...')\n",
    "\n",
    "X = data[:, 0]\n",
    "X = np.c_[np.ones(m), X] # 在原矩阵前加一列方便运算\n",
    "theta = np.zeros(2) # 初始化两个参数为0\n",
    "\n",
    "iterations = 1500 # 初始化梯度下降的迭代次数\n",
    "alpha = 0.01 # 初始化学习率\n",
    "\n",
    "'''计算初始的代价函数值，并且和期望值比较，验证程序的正确性'''\n",
    "print('Initial cost : ' + str(compute_cost(X, y, theta)) + '(This value should be about 32.07)')\n",
    "\n",
    "'''用梯度下降法求解线性回归，返回最优参数以及每一步迭代后的代价函数'''\n",
    "theta, J_history = gradient_descent(X, y, theta, alpha, iterations)\n",
    "\n",
    "print('Theta found by gradient descent: ' + str(theta.reshape(2)))\n",
    "\n",
    "'''在数据集上绘制出拟合的直线'''\n",
    "line1, = plt.plot(X[:, 1], np.dot(X, theta), label='Linear Regression')\n",
    "plt.show\n",
    "\n",
    "\n",
    "# 用训练好的参数 预测人口为3.5*1000时 收益为多少  并与期望值比较 验证程序正确性\n",
    "predict1 = np.dot(np.array([1, 3.5]), theta)\n",
    "print('For population = 35,000, we predict a profit of {:0.3f} (This value should be about 4519.77)'.format(predict1*10000))\n",
    "# 用训练好的参数 预测人口为7*1000时 收益为多少  并与期望值比较 验证程序正确性\n",
    "predict2 = np.dot(np.array([1, 7]), theta)\n",
    "print('For population = 70,000, we predict a profit of {:0.3f} (This value should be about 45342.45)'.format(predict2*10000))"
   ]
  }
 ],
 "metadata": {
  "kernelspec": {
   "display_name": "Python 3",
   "language": "python",
   "name": "python3"
  },
  "language_info": {
   "codemirror_mode": {
    "name": "ipython",
    "version": 3
   },
   "file_extension": ".py",
   "mimetype": "text/x-python",
   "name": "python",
   "nbconvert_exporter": "python",
   "pygments_lexer": "ipython3",
   "version": "3.7.1"
  }
 },
 "nbformat": 4,
 "nbformat_minor": 2
}
